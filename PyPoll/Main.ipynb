{
 "cells": [
  {
   "cell_type": "code",
   "execution_count": 1,
   "metadata": {},
   "outputs": [],
   "source": [
    "# Import Dependencies\n",
    "import csv\n",
    "import pandas as pd\n",
    "import numpy as np\n",
    "from pathlib import Path\n",
    "import sys"
   ]
  },
  {
   "cell_type": "code",
   "execution_count": 2,
   "metadata": {},
   "outputs": [
    {
     "data": {
      "text/html": [
       "<div>\n",
       "<style scoped>\n",
       "    .dataframe tbody tr th:only-of-type {\n",
       "        vertical-align: middle;\n",
       "    }\n",
       "\n",
       "    .dataframe tbody tr th {\n",
       "        vertical-align: top;\n",
       "    }\n",
       "\n",
       "    .dataframe thead th {\n",
       "        text-align: right;\n",
       "    }\n",
       "</style>\n",
       "<table border=\"1\" class=\"dataframe\">\n",
       "  <thead>\n",
       "    <tr style=\"text-align: right;\">\n",
       "      <th></th>\n",
       "      <th>Date</th>\n",
       "      <th>Profit/Losses</th>\n",
       "    </tr>\n",
       "  </thead>\n",
       "  <tbody>\n",
       "    <tr>\n",
       "      <th>0</th>\n",
       "      <td>Jan-2010</td>\n",
       "      <td>867884</td>\n",
       "    </tr>\n",
       "    <tr>\n",
       "      <th>1</th>\n",
       "      <td>Feb-2010</td>\n",
       "      <td>984655</td>\n",
       "    </tr>\n",
       "    <tr>\n",
       "      <th>2</th>\n",
       "      <td>Mar-2010</td>\n",
       "      <td>322013</td>\n",
       "    </tr>\n",
       "    <tr>\n",
       "      <th>3</th>\n",
       "      <td>Apr-2010</td>\n",
       "      <td>-69417</td>\n",
       "    </tr>\n",
       "    <tr>\n",
       "      <th>4</th>\n",
       "      <td>May-2010</td>\n",
       "      <td>310503</td>\n",
       "    </tr>\n",
       "    <tr>\n",
       "      <th>...</th>\n",
       "      <td>...</td>\n",
       "      <td>...</td>\n",
       "    </tr>\n",
       "    <tr>\n",
       "      <th>81</th>\n",
       "      <td>Oct-2016</td>\n",
       "      <td>102685</td>\n",
       "    </tr>\n",
       "    <tr>\n",
       "      <th>82</th>\n",
       "      <td>Nov-2016</td>\n",
       "      <td>795914</td>\n",
       "    </tr>\n",
       "    <tr>\n",
       "      <th>83</th>\n",
       "      <td>Dec-2016</td>\n",
       "      <td>60988</td>\n",
       "    </tr>\n",
       "    <tr>\n",
       "      <th>84</th>\n",
       "      <td>Jan-2017</td>\n",
       "      <td>138230</td>\n",
       "    </tr>\n",
       "    <tr>\n",
       "      <th>85</th>\n",
       "      <td>Feb-2017</td>\n",
       "      <td>671099</td>\n",
       "    </tr>\n",
       "  </tbody>\n",
       "</table>\n",
       "<p>86 rows × 2 columns</p>\n",
       "</div>"
      ],
      "text/plain": [
       "        Date  Profit/Losses\n",
       "0   Jan-2010         867884\n",
       "1   Feb-2010         984655\n",
       "2   Mar-2010         322013\n",
       "3   Apr-2010         -69417\n",
       "4   May-2010         310503\n",
       "..       ...            ...\n",
       "81  Oct-2016         102685\n",
       "82  Nov-2016         795914\n",
       "83  Dec-2016          60988\n",
       "84  Jan-2017         138230\n",
       "85  Feb-2017         671099\n",
       "\n",
       "[86 rows x 2 columns]"
      ]
     },
     "execution_count": 2,
     "metadata": {},
     "output_type": "execute_result"
    }
   ],
   "source": [
    "# Create a reference the CSV file desired\n",
    "csv_path = 'Resources/budget_data.csv'\n",
    "\n",
    "# Read the CSV into a Pandas DataFrame\n",
    "bgt_df = pd.read_csv(csv_path)\n",
    "\n",
    "# Print the data just to get look and feel\n",
    "bgt_df"
   ]
  },
  {
   "cell_type": "code",
   "execution_count": 3,
   "metadata": {},
   "outputs": [],
   "source": [
    "#Define required outputs, formula feeds, new column, and index\n",
    "\n",
    "#number of months\n",
    "count_bgt_df=bgt_df['Date'].count()\n",
    "\n",
    "#Sum of profit and loss\n",
    "sum_bgt_df=bgt_df['Profit/Losses'].sum()\n",
    "\n",
    "#add change column\n",
    "bgt_df['Chg'] = bgt_df['Profit/Losses'].diff()\n",
    "\n",
    "#Average Change calc\n",
    "chg_bgt_df=bgt_df['Chg'].mean()\n",
    "\n",
    "#Set Index for estblishing min/max change\n",
    "bgt_df_with_index = bgt_df.set_index('Profit/Losses')\n",
    "\n",
    "#Maximum in change column\n",
    "Max_change= bgt_df_with_index.sort_values(['Chg'], ascending=[0]).iloc[0]\n",
    "\n",
    "\n",
    "#Minimum in change column\n",
    "Min_change = bgt_df_with_index.sort_values(['Chg'], ascending=[1]).iloc[0]"
   ]
  },
  {
   "cell_type": "code",
   "execution_count": 4,
   "metadata": {},
   "outputs": [
    {
     "name": "stdout",
     "output_type": "stream",
     "text": [
      "Total Months: 86\n",
      "Total: $38382578\n",
      "Average Change: $-2315.12\n",
      "Greatest Increase in Profits: Feb-2012  $1926159.0\n",
      "Greatest Decrease in Profits: Sep-2013  $-2196167.0\n"
     ]
    }
   ],
   "source": [
    "#Print results\n",
    "print('Total Months: ' + str(count_bgt_df))\n",
    "print('Total: $'+ str(sum_bgt_df))\n",
    "print('Average Change: $'+ str('{:.2f}'.format(chg_bgt_df)))\n",
    "print('Greatest Increase in Profits: '+ Max_change['Date'] + '  $' + str(+ Max_change['Chg']))\n",
    "print('Greatest Decrease in Profits: '+ Min_change['Date'] + '  $' + str(+ Min_change['Chg']))"
   ]
  },
  {
   "cell_type": "code",
   "execution_count": 5,
   "metadata": {},
   "outputs": [],
   "source": [
    "#Save results to a file\n",
    "Path(\"Analysis/Results.txt\").touch()\n",
    "stdout_obj = sys.stdout             # store original stdout \n",
    "sys.stdout = open(\"Analysis/Results.txt\", \"w\")\n",
    "print('Total Months: ' + str(count_bgt_df))\n",
    "print('Total: $'+ str(sum_bgt_df))\n",
    "print('Average Change: $'+ str('{:.2f}'.format(chg_bgt_df)))\n",
    "print('Greatest Increase in Profits: '+ Max_change['Date'] + '  $' + str(+ Max_change['Chg']))\n",
    "print('Greatest Decrease in Profits: '+ Min_change['Date'] + '  $' + str(+ Min_change['Chg']))\n",
    "sys.stdout.close()\n",
    "sys.stdout = stdout_obj             # restore print commands to to interactive prompt\n"
   ]
  },
  {
   "cell_type": "code",
   "execution_count": null,
   "metadata": {},
   "outputs": [],
   "source": []
  }
 ],
 "metadata": {
  "kernelspec": {
   "display_name": "Python 3",
   "language": "python",
   "name": "python3"
  },
  "language_info": {
   "codemirror_mode": {
    "name": "ipython",
    "version": 3
   },
   "file_extension": ".py",
   "mimetype": "text/x-python",
   "name": "python",
   "nbconvert_exporter": "python",
   "pygments_lexer": "ipython3",
   "version": "3.8.3"
  }
 },
 "nbformat": 4,
 "nbformat_minor": 4
}
